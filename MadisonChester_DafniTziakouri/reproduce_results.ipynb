{
 "cells": [
  {
   "cell_type": "code",
   "execution_count": null,
   "metadata": {},
   "outputs": [],
   "source": [
    "import pandas as pd\n",
    "import os\n",
    "from sklearn.model_selection import train_test_split\n",
    "from sklearn.metrics import classification_report, roc_curve, auc\n",
    "import matplotlib.pyplot as plt\n",
    "# from sklearnex import patch_sklearn\n",
    "\n",
    "# our custom functions\n",
    "from utils import remove_nan_questions\n",
    "\n",
    "# patch_sklearn() "
   ]
  },
  {
   "cell_type": "code",
   "execution_count": null,
   "metadata": {},
   "outputs": [],
   "source": [
    "_path_folder_quora = \"~/Datasets/QuoraQuestionPairs\"\n",
    "MODELS_DIR = \"model_artifacts\"\n",
    "SEED = 123"
   ]
  },
  {
   "cell_type": "code",
   "execution_count": null,
   "metadata": {},
   "outputs": [],
   "source": [
    "_train_df = pd.read_csv(os.path.join(_path_folder_quora, \"quora_train_data.csv\"))\n",
    "x_train = _train_df.loc[:, [\"question1\", \"question2\"]]\n",
    "y_train = _train_df.loc[:, \"is_duplicate\"]\n",
    "\n",
    "x_train, y_train = remove_nan_questions(x_train, y_train)\n",
    "x_train, x_test, y_train, y_test = train_test_split(\n",
    "        x_train, y_train, test_size=0.2, random_state=SEED)"
   ]
  },
  {
   "cell_type": "code",
   "execution_count": null,
   "metadata": {},
   "outputs": [],
   "source": [
    "import joblib\n",
    "fitted_pipe = joblib.load(f'{MODELS_DIR}/fitted_pipeline.joblib')"
   ]
  },
  {
   "cell_type": "code",
   "execution_count": null,
   "metadata": {},
   "outputs": [],
   "source": [
    "y_pred_train = fitted_pipe.predict(x_train)\n",
    "y_pred_test = fitted_pipe.predict(x_test)\n",
    "\n",
    "fpr_train, tpr_train, _ = roc_curve(\n",
    "    y_train, fitted_pipe.predict_log_proba(x_train)[:, 1])\n",
    "auc_roc_train = auc(fpr_train, tpr_train)\n",
    "fpr_test, tpr_test, _ = roc_curve(\n",
    "    y_test, fitted_pipe.predict_log_proba(x_test)[:, 1])\n",
    "auc_roc_test = auc(fpr_test, tpr_test)\n",
    "\n",
    "print(\"TRAINING results:\\n\", classification_report(y_train, y_pred_train))\n",
    "print(\"TESTING results:\\n\", classification_report(y_test, y_pred_test))\n",
    "\n",
    "print(\"Training AUC:\", auc_roc_train)\n",
    "print(\"Testing AUC:\", auc_roc_test)"
   ]
  },
  {
   "cell_type": "code",
   "execution_count": null,
   "metadata": {},
   "outputs": [],
   "source": [
    "plt.plot(fpr_train, tpr_train,\n",
    "         label=f'Train (AUC = {round(auc_roc_train, 3)})')\n",
    "plt.plot(fpr_test, tpr_test,\n",
    "         label=f'Test (AUC = {round(auc_roc_test, 3)})')\n",
    "plt.legend()\n",
    "plt.savefig(f'{MODELS_DIR}/fitted_pipe_roc.png', dpi=250)\n",
    "plt.show()\n",
    "plt.close()"
   ]
  }
 ],
 "metadata": {
  "language_info": {
   "name": "python"
  }
 },
 "nbformat": 4,
 "nbformat_minor": 2
}
